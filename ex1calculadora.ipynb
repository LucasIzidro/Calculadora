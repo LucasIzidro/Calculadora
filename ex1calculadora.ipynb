{
  "nbformat": 4,
  "nbformat_minor": 0,
  "metadata": {
    "colab": {
      "provenance": []
    },
    "kernelspec": {
      "name": "python3",
      "display_name": "Python 3"
    },
    "language_info": {
      "name": "python"
    }
  },
  "cells": [
    {
      "cell_type": "markdown",
      "source": [
        "## Calculadora"
      ],
      "metadata": {
        "id": "hoca5SVYJyNS"
      }
    },
    {
      "cell_type": "code",
      "execution_count": null,
      "metadata": {
        "colab": {
          "base_uri": "https://localhost:8080/"
        },
        "id": "f8znqAtyJuCy",
        "outputId": "d43535d3-fec9-495b-a003-d443cb3b9f00"
      },
      "outputs": [
        {
          "output_type": "stream",
          "name": "stdout",
          "text": [
            "--------------------- CALCULADORA ---------------------\n",
            "\n",
            "Digite o primeiro número: 1\n",
            "Digite o segundo número: 2\n",
            "\n",
            "Qual operação você deseja realizar? Selecione:\n",
            " 1 - Soma \n",
            " 2 - Subtração\n",
            " 3 - Multiplicação\n",
            " 4 - Divisão\n",
            " Operação escolhida = 1\n",
            "\n",
            "Escolheu a soma, resultando em:  3.0\n"
          ]
        }
      ],
      "source": [
        "\n",
        "\n",
        "print('--------------------- CALCULADORA ---------------------\\n')\n",
        "\n",
        "# Solicitando ao usuário os números\n",
        "num1 = float(input('Digite o primeiro número: '))\n",
        "num2 = float(input('Digite o segundo número: '))\n",
        "\n",
        "# vamos utilizar as 4 operação matematicas, soma, sutração, multiplicação ou divisão.\n",
        "soma = num1 + num2\n",
        "sub = num1 - num2\n",
        "mult = num1 * num2\n",
        "div = num1 / num2\n",
        "\n",
        "# Pedir ao usuário que escolha a operação\n",
        "(print('\\nQual operação você deseja realizar? Selecione:'))\n",
        "operacao = int(input(' 1 - Soma \\n 2 - Subtração\\n 3 - Multiplicação\\n 4 - Divisão\\n Operação escolhida = '))\n",
        "\n",
        "\n",
        "# vamos fazer a condicional para cada operação\n",
        "if operacao == 1:\n",
        "  print('\\nEscolheu a soma, resultando em: ', soma)\n",
        "elif operacao == 2:\n",
        "  print('\\nEscolheu a subtração, resultando em: ', sub)\n",
        "elif operacao == 3:\n",
        "  print('\\nEscolheu a multiplicação, resultando em: ', mult)\n",
        "elif operacao == 4:\n",
        "  print('\\nEscolheu a divisão, resultando em: ', div)\n",
        "else:\n",
        "  print('\\nOpção Inválida. Tente Novamente! \\nLembrando que só aceitamos 1, 2, 3 ou 4!')\n",
        "\n"
      ]
    },
    {
      "cell_type": "code",
      "source": [],
      "metadata": {
        "id": "hADUdUAZL9ay"
      },
      "execution_count": null,
      "outputs": []
    }
  ]
}